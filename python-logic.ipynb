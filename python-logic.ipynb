{
  "nbformat": 4,
  "nbformat_minor": 0,
  "metadata": {
    "colab": {
      "provenance": []
    },
    "kernelspec": {
      "name": "python3",
      "display_name": "Python 3"
    },
    "language_info": {
      "name": "python"
    }
  },
  "cells": [
    {
      "cell_type": "code",
      "execution_count": null,
      "metadata": {
        "id": "vwkFSkE292sp"
      },
      "outputs": [],
      "source": [
        "\"\"\"Escribe un programa que muestre por consola (con un print) los\n",
        " números de 1 a 100 (ambos incluidos y con un salto de línea entre\n",
        " cada impresión), sustituyendo los siguientes:\n",
        " - Múltiplos de 3 por la palabra \"fizz\".\n",
        " - Múltiplos de 5 por la palabra \"buzz\".\n",
        " - Múltiplos de 3 y de 5 a la vez por la palabra \"fizzbuzz. \"\"\"\n",
        "\n",
        "\n",
        "for index in range(1,101):\n",
        "  if index % 3 == 0 and index % 5 == 0:\n",
        "    print(index,\"fizzbuzz\")\n",
        "  else:\n",
        "    if index % 3 == 0:\n",
        "      print(index,\"fizz\")\n",
        "    elif index % 5 == 0:\n",
        "      print(index, \"buzz\")\n",
        "    else:\n",
        "      print(index)"
      ]
    },
    {
      "cell_type": "code",
      "source": [
        "matrix = [[1, 2, 3], [4, 5, 6]]\n",
        "print([[0 for _ in range(len(matrix[0]))] for _ in range(len(matrix))])\n",
        "print([[0 for _ in range(len(matrix))] for _ in range(len(matrix[0]))])\n",
        "print()"
      ],
      "metadata": {
        "id": "fpAQGc1ogL0e"
      },
      "execution_count": null,
      "outputs": []
    },
    {
      "cell_type": "code",
      "source": [
        "matrix = [[1, 2, 3], [4, 5, 6]]\n",
        "\n",
        "def transpose(matrix):\n",
        "    transposed_matrix  = [[0 for _ in range(len(matrix))] for _ in range(len(matrix[0]))]\n",
        "    for row in range(len(matrix)):\n",
        "        for column in range(len(matrix[row])):\n",
        "            transposed_matrix[column][row] = matrix[row][column]\n",
        "    matrix[:] = transposed_matrix\n",
        "    return matrix\n",
        "transpose(matrix)"
      ],
      "metadata": {
        "colab": {
          "base_uri": "https://localhost:8080/"
        },
        "id": "LGg-4YKGlDr6",
        "outputId": "692d0d8b-be76-45b9-deae-565fb40d33cf"
      },
      "execution_count": null,
      "outputs": [
        {
          "output_type": "execute_result",
          "data": {
            "text/plain": [
              "[[1, 4], [2, 5], [3, 6]]"
            ]
          },
          "metadata": {},
          "execution_count": 28
        }
      ]
    },
    {
      "cell_type": "code",
      "source": [
        "import random\n",
        "\n",
        "def simple_list():\n",
        "    list = []\n",
        "    for id in range(10):\n",
        "        dicts = {\n",
        "            \"id\": id,\n",
        "            \"age\": random.randint(1, 100)\n",
        "        }\n",
        "        list.append(dicts)\n",
        "    return list\n",
        "\n",
        "list = simple_list()\n",
        "list.sort(key=lambda filter_age: filter_age[\"age\"], reverse=True)\n",
        "print(list)"
      ],
      "metadata": {
        "id": "A8jLzp9NmnJL"
      },
      "execution_count": null,
      "outputs": []
    },
    {
      "cell_type": "markdown",
      "source": [
        "\n",
        "  Escribe una función que reciba dos palabras (String) y retorne\n",
        "  verdadero o falso (Bool) según sean o no anagramas.\n",
        "   Un Anagrama consiste en formar una palabra reordenando TODAS\n",
        "   las letras de otra palabra inicial.\n",
        "   NO hace falta comprobar que ambas palabras existan.\n",
        "   Dos palabras exactamente iguales no son anagrama.\n"
      ],
      "metadata": {
        "id": "aJWK7dTQ9qb2"
      }
    },
    {
      "cell_type": "code",
      "source": [
        "def anagram_cheker(anagram: str, anagram1: str) -> bool:\n",
        "  if anagram.lower() != anagram1.lower():\n",
        "    return set(anagram.lower()) == set(anagram1.lower())\n",
        "  else:\n",
        "    return False\n",
        "\n",
        "word = \"Amor\"\n",
        "word2 = \"amor\"\n",
        "word3 = \"Roma\"\n",
        "word4 = \"Enrique\"\n",
        "word5 = \"quieren\"\n",
        "\n",
        "print(\"El resultado es: \", anagram_cheker(word, word2))\n",
        "print(\"El resultado es: \", anagram_cheker(word, word))\n",
        "print(\"El resultado es: \", anagram_cheker(word, word3))\n",
        "print(\"El resultado es: \", anagram_cheker(word4, word5))"
      ],
      "metadata": {
        "colab": {
          "base_uri": "https://localhost:8080/"
        },
        "id": "2IsXoze-9vqT",
        "outputId": "caf56359-2494-4d32-d37a-82c5d77f83c2"
      },
      "execution_count": null,
      "outputs": [
        {
          "output_type": "stream",
          "name": "stdout",
          "text": [
            "El resultado es:  False\n",
            "El resultado es:  False\n",
            "El resultado es:  True\n",
            "El resultado es:  True\n"
          ]
        }
      ]
    },
    {
      "cell_type": "markdown",
      "source": [
        "Escribe un programa que imprima los 50 primeros números de la sucesión\n",
        "de Fibonacci empezando en 0.\n",
        "- La serie Fibonacci se compone por una sucesión de números en   la que el siguiente siempre es la suma de los dos anteriores.\n",
        "\n",
        "0, 1, 1, 2, 3, 5, 8, 13..."
      ],
      "metadata": {
        "id": "5_8Q5XjuI4Ez"
      }
    },
    {
      "cell_type": "code",
      "source": [
        "def fibonacci(number: int):\n",
        "  a, b = 0, 1\n",
        "  for index in range(number):\n",
        "    print(a)\n",
        "    a, b = b, b + a\n",
        "  print(a)\n",
        "fibonacci(10)\n"
      ],
      "metadata": {
        "colab": {
          "base_uri": "https://localhost:8080/"
        },
        "id": "IFkPP6kQI9_6",
        "outputId": "b29e5713-ed95-4a57-c952-85889b516ca5"
      },
      "execution_count": null,
      "outputs": [
        {
          "output_type": "stream",
          "name": "stdout",
          "text": [
            "0\n",
            "1\n",
            "1\n",
            "2\n",
            "3\n",
            "5\n",
            "8\n",
            "13\n",
            "21\n",
            "34\n",
            "55\n"
          ]
        }
      ]
    },
    {
      "cell_type": "markdown",
      "source": [
        "\n",
        " Escribe un programa que se encargue de comprobar si un número es o no primo.\n",
        " Hecho esto, imprime los números primos entre 1 y 100.\n"
      ],
      "metadata": {
        "id": "Ov1QJ-lEVEhx"
      }
    },
    {
      "cell_type": "code",
      "source": [
        "def prime_numer(*number: int):\n",
        "  for index in range(1, number + 1):\n",
        "    if index == 2 or index == 3 or index == 5 or index == 7 or index == 11:\n",
        "      print(index, \"es primo\")\n",
        "    else:\n",
        "      if index % 2 != 0 and index % 3 != 0 and index % 5 != 0 and index % 7 != 0:\n",
        "        print(index, \"es primo\")\n",
        "\n",
        "prime_numer(100)"
      ],
      "metadata": {
        "id": "XXrvOeIlVMUi"
      },
      "execution_count": null,
      "outputs": []
    },
    {
      "cell_type": "markdown",
      "source": [
        "\n",
        " Crea una única función (importante que sólo sea una) que sea capazde calcular y retornar el área de un polígono.\n",
        " - La función recibirá por parámetro sólo UN polígono a la vez.\n",
        " - Los polígonos soportados serán Triángulo, Cuadrado y Rectángulo.\n",
        " - Imprime el cálculo del área de un polígono de cada tipo.\n"
      ],
      "metadata": {
        "id": "8btr1E_kYenQ"
      }
    },
    {
      "cell_type": "code",
      "source": [
        "def calculate_area(polygon: str, *dimensions: float)-> float:\n",
        "    print(dimensions)\n",
        "    if polygon.lower() == 'triangulo':\n",
        "        base, height = dimensions\n",
        "        return 0.5 * base * height\n",
        "    elif polygon.lower() == 'cuadrado':\n",
        "        lado, = dimensions\n",
        "        return lado ** 2\n",
        "    elif polygon.lower() == 'rectangulo':\n",
        "        base, height = dimensions\n",
        "        return base * height\n",
        "    else:\n",
        "        return \"Polígono no soportado\"\n",
        "\n",
        "print(calculate_area('triangulo', 3, 4))  # Devuelve: 6.0\n",
        "print(calculate_area('cuadrado', 4))  # Devuelve: 16\n",
        "print(calculate_area('rectangulo', 3, 4))  # Devuelve: 12\n"
      ],
      "metadata": {
        "id": "08PNHrQ8YmmP"
      },
      "execution_count": null,
      "outputs": []
    },
    {
      "cell_type": "markdown",
      "source": [
        "Crea un programa que invierta el orden de una cadena de texto sin usar funciones propias del lenguaje que lo hagan de forma automática.\n",
        "- Si le pasamos \"Hola mundo\" nos retornaría \"odnum aloH\"\n"
      ],
      "metadata": {
        "id": "h2z2JxWJA5ks"
      }
    },
    {
      "cell_type": "code",
      "source": [
        "def inverter_word():\n",
        "  word = input(str(\"escribe una frase: \"))\n",
        "  print(word[::-1])\n",
        "\n",
        "inverter_word()"
      ],
      "metadata": {
        "colab": {
          "base_uri": "https://localhost:8080/"
        },
        "id": "GF5pqb3UBJLR",
        "outputId": "2a47ff6a-fb7e-4c52-8774-5d8f96641ef6"
      },
      "execution_count": null,
      "outputs": [
        {
          "output_type": "stream",
          "name": "stdout",
          "text": [
            "escribe una frase: hola puto\n",
            "otup aloh\n"
          ]
        }
      ]
    },
    {
      "cell_type": "markdown",
      "source": [
        "  Crea un programa que cuente cuantas veces se repite cada palabra\n",
        "  y que muestre el recuento final de todas ellas.\n",
        "  - Los signos de puntuación no forman parte de la palabra.\n",
        "  - Una palabra es la misma aunque aparezca en mayúsculas y minúsculas.\n",
        "  - No se pueden utilizar funciones propias del lenguaje quelo resuelvan automáticamente."
      ],
      "metadata": {
        "id": "T79k84B0DBqO"
      }
    },
    {
      "cell_type": "code",
      "source": [
        "def count_words(words: str):\n",
        "  converter = words.lower().replace('.', '')\n",
        "  count = {}\n",
        "  for word in converter.split():\n",
        "    if word in count:\n",
        "        count[word] += 1\n",
        "    else:\n",
        "        count[word] = 1\n",
        "  return count\n",
        "words = \"Buenas tardes mi nombre es braulio y buenas ya no son. Tardes es muy buenas \"\n",
        "\n",
        "print(count_words(words))"
      ],
      "metadata": {
        "colab": {
          "base_uri": "https://localhost:8080/"
        },
        "id": "T5EwkB-CDGbf",
        "outputId": "915b3aa4-2e1f-44ea-dc79-1ade595cf71f"
      },
      "execution_count": null,
      "outputs": [
        {
          "output_type": "stream",
          "name": "stdout",
          "text": [
            "{'buenas': 3, 'tardes': 2, 'mi': 1, 'nombre': 1, 'es': 2, 'braulio': 1, 'y': 1, 'ya': 1, 'no': 1, 'son': 1, 'muy': 1}\n"
          ]
        }
      ]
    },
    {
      "cell_type": "markdown",
      "source": [
        "  Crea un programa se encargue de transformar un número\n",
        "  decimal a binario sin utilizar funciones propias del lenguaje que lo hagan directamente."
      ],
      "metadata": {
        "id": "LRUVT19RHP1o"
      }
    },
    {
      "cell_type": "code",
      "source": [
        "def decimal_converter_binary(number: int)-> int:\n",
        "  binary_list = []\n",
        "  while number != 0:\n",
        "    quotient = number // 2\n",
        "    waste = number % 2\n",
        "    binary_list.append(waste)\n",
        "    number = quotient\n",
        "  binary_list = binary_list[::-1]\n",
        "  binary = int(''.join(map(str, binary_list)))\n",
        "  return binary\n",
        "\n",
        "print(decimal_converter_binary(13))\n",
        "\n"
      ],
      "metadata": {
        "id": "QuoeaTn2HR0s"
      },
      "execution_count": null,
      "outputs": []
    },
    {
      "cell_type": "code",
      "source": [],
      "metadata": {
        "id": "o6osX8BeRrvK"
      },
      "execution_count": null,
      "outputs": []
    }
  ]
}
